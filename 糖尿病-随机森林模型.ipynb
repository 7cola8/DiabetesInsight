{
 "cells": [
  {
   "cell_type": "markdown",
   "id": "186560b8",
   "metadata": {},
   "source": [
    "# 跨数据集的糖尿病预测模型建模与对比研究"
   ]
  },
  {
   "cell_type": "markdown",
   "id": "5ca1c4b6",
   "metadata": {},
   "source": [
    "## 数据查看区分"
   ]
  },
  {
   "cell_type": "code",
   "execution_count": 1,
   "id": "e2ae77cf",
   "metadata": {},
   "outputs": [],
   "source": [
    "import pandas as pd\n",
    "import numpy as np\n",
    "import matplotlib.pyplot as plt\n",
    "import seaborn as sns\n",
    "import scipy.stats as stats\n",
    "plt.rcParams['font.sans-serif'] = ['SimHei'] \n",
    "plt.rcParams['axes.unicode_minus'] = False\n",
    "from scipy.stats import mannwhitneyu\n",
    "from scipy.stats import chi2_contingency\n",
    "from statsmodels.stats.outliers_influence import variance_inflation_factor\n",
    "from statsmodels.tools.tools import add_constant\n",
    "from sklearn.model_selection import train_test_split\n",
    "from sklearn.ensemble import RandomForestClassifier\n",
    "from sklearn.metrics import accuracy_score, confusion_matrix, classification_report\n",
    "from sklearn.metrics import roc_auc_score\n",
    "from sklearn.metrics import precision_score, recall_score"
   ]
  },
  {
   "cell_type": "code",
   "execution_count": 2,
   "id": "55e66a61",
   "metadata": {},
   "outputs": [
    {
     "data": {
      "text/html": [
       "<div>\n",
       "<style scoped>\n",
       "    .dataframe tbody tr th:only-of-type {\n",
       "        vertical-align: middle;\n",
       "    }\n",
       "\n",
       "    .dataframe tbody tr th {\n",
       "        vertical-align: top;\n",
       "    }\n",
       "\n",
       "    .dataframe thead th {\n",
       "        text-align: right;\n",
       "    }\n",
       "</style>\n",
       "<table border=\"1\" class=\"dataframe\">\n",
       "  <thead>\n",
       "    <tr style=\"text-align: right;\">\n",
       "      <th></th>\n",
       "      <th>gender</th>\n",
       "      <th>age</th>\n",
       "      <th>hypertension</th>\n",
       "      <th>heart_disease</th>\n",
       "      <th>smoking_history</th>\n",
       "      <th>bmi</th>\n",
       "      <th>HbA1c_level</th>\n",
       "      <th>blood_glucose_level</th>\n",
       "      <th>diabetes</th>\n",
       "    </tr>\n",
       "  </thead>\n",
       "  <tbody>\n",
       "    <tr>\n",
       "      <th>0</th>\n",
       "      <td>Female</td>\n",
       "      <td>80.0</td>\n",
       "      <td>0</td>\n",
       "      <td>1</td>\n",
       "      <td>never</td>\n",
       "      <td>25.19</td>\n",
       "      <td>6.6</td>\n",
       "      <td>140</td>\n",
       "      <td>0</td>\n",
       "    </tr>\n",
       "    <tr>\n",
       "      <th>1</th>\n",
       "      <td>Female</td>\n",
       "      <td>54.0</td>\n",
       "      <td>0</td>\n",
       "      <td>0</td>\n",
       "      <td>No Info</td>\n",
       "      <td>27.32</td>\n",
       "      <td>6.6</td>\n",
       "      <td>80</td>\n",
       "      <td>0</td>\n",
       "    </tr>\n",
       "    <tr>\n",
       "      <th>2</th>\n",
       "      <td>Male</td>\n",
       "      <td>28.0</td>\n",
       "      <td>0</td>\n",
       "      <td>0</td>\n",
       "      <td>never</td>\n",
       "      <td>27.32</td>\n",
       "      <td>5.7</td>\n",
       "      <td>158</td>\n",
       "      <td>0</td>\n",
       "    </tr>\n",
       "    <tr>\n",
       "      <th>3</th>\n",
       "      <td>Female</td>\n",
       "      <td>36.0</td>\n",
       "      <td>0</td>\n",
       "      <td>0</td>\n",
       "      <td>current</td>\n",
       "      <td>23.45</td>\n",
       "      <td>5.0</td>\n",
       "      <td>155</td>\n",
       "      <td>0</td>\n",
       "    </tr>\n",
       "    <tr>\n",
       "      <th>4</th>\n",
       "      <td>Male</td>\n",
       "      <td>76.0</td>\n",
       "      <td>1</td>\n",
       "      <td>1</td>\n",
       "      <td>current</td>\n",
       "      <td>20.14</td>\n",
       "      <td>4.8</td>\n",
       "      <td>155</td>\n",
       "      <td>0</td>\n",
       "    </tr>\n",
       "  </tbody>\n",
       "</table>\n",
       "</div>"
      ],
      "text/plain": [
       "   gender   age  hypertension  heart_disease smoking_history    bmi  \\\n",
       "0  Female  80.0             0              1           never  25.19   \n",
       "1  Female  54.0             0              0         No Info  27.32   \n",
       "2    Male  28.0             0              0           never  27.32   \n",
       "3  Female  36.0             0              0         current  23.45   \n",
       "4    Male  76.0             1              1         current  20.14   \n",
       "\n",
       "   HbA1c_level  blood_glucose_level  diabetes  \n",
       "0          6.6                  140         0  \n",
       "1          6.6                   80         0  \n",
       "2          5.7                  158         0  \n",
       "3          5.0                  155         0  \n",
       "4          4.8                  155         0  "
      ]
     },
     "execution_count": 2,
     "metadata": {},
     "output_type": "execute_result"
    }
   ],
   "source": [
    "df = pd.read_csv(\"C:/Users/86156/Desktop/任务分配&原数据/diabetes_prediction_dataset.csv\")\n",
    "#根据自身文件保存地址更改，注意斜杠的更改\n",
    "df.head()"
   ]
  },
  {
   "cell_type": "code",
   "execution_count": 3,
   "id": "b5f1d962",
   "metadata": {},
   "outputs": [
    {
     "name": "stdout",
     "output_type": "stream",
     "text": [
      "数据维度: (100000, 9)\n"
     ]
    }
   ],
   "source": [
    "# 样本数量 & 字段数量\n",
    "print(\"数据维度:\", df.shape)"
   ]
  },
  {
   "cell_type": "code",
   "execution_count": 4,
   "id": "b8eabfff",
   "metadata": {},
   "outputs": [
    {
     "name": "stdout",
     "output_type": "stream",
     "text": [
      "缺失值数量:\n",
      "gender                 0\n",
      "age                    0\n",
      "hypertension           0\n",
      "heart_disease          0\n",
      "smoking_history        0\n",
      "bmi                    0\n",
      "HbA1c_level            0\n",
      "blood_glucose_level    0\n",
      "diabetes               0\n",
      "dtype: int64\n"
     ]
    }
   ],
   "source": [
    "# 缺失值检查\n",
    "print(\"缺失值数量:\")\n",
    "print(df.isnull().sum())"
   ]
  },
  {
   "cell_type": "code",
   "execution_count": 5,
   "id": "980e3d3d",
   "metadata": {},
   "outputs": [
    {
     "name": "stdout",
     "output_type": "stream",
     "text": [
      "字段类型:\n",
      "gender                  object\n",
      "age                    float64\n",
      "hypertension             int64\n",
      "heart_disease            int64\n",
      "smoking_history         object\n",
      "bmi                    float64\n",
      "HbA1c_level            float64\n",
      "blood_glucose_level      int64\n",
      "diabetes                 int64\n",
      "dtype: object\n"
     ]
    }
   ],
   "source": [
    "# 数据类型\n",
    "print(\"字段类型:\")\n",
    "print(df.dtypes)"
   ]
  },
  {
   "cell_type": "code",
   "execution_count": 6,
   "id": "f6ec0dd7",
   "metadata": {},
   "outputs": [
    {
     "data": {
      "text/html": [
       "<div>\n",
       "<style scoped>\n",
       "    .dataframe tbody tr th:only-of-type {\n",
       "        vertical-align: middle;\n",
       "    }\n",
       "\n",
       "    .dataframe tbody tr th {\n",
       "        vertical-align: top;\n",
       "    }\n",
       "\n",
       "    .dataframe thead th {\n",
       "        text-align: right;\n",
       "    }\n",
       "</style>\n",
       "<table border=\"1\" class=\"dataframe\">\n",
       "  <thead>\n",
       "    <tr style=\"text-align: right;\">\n",
       "      <th></th>\n",
       "      <th>age</th>\n",
       "      <th>hypertension</th>\n",
       "      <th>heart_disease</th>\n",
       "      <th>bmi</th>\n",
       "      <th>HbA1c_level</th>\n",
       "      <th>blood_glucose_level</th>\n",
       "      <th>diabetes</th>\n",
       "    </tr>\n",
       "  </thead>\n",
       "  <tbody>\n",
       "    <tr>\n",
       "      <th>count</th>\n",
       "      <td>100000.000000</td>\n",
       "      <td>100000.00000</td>\n",
       "      <td>100000.000000</td>\n",
       "      <td>100000.000000</td>\n",
       "      <td>100000.000000</td>\n",
       "      <td>100000.000000</td>\n",
       "      <td>100000.000000</td>\n",
       "    </tr>\n",
       "    <tr>\n",
       "      <th>mean</th>\n",
       "      <td>41.885856</td>\n",
       "      <td>0.07485</td>\n",
       "      <td>0.039420</td>\n",
       "      <td>27.320767</td>\n",
       "      <td>5.527507</td>\n",
       "      <td>138.058060</td>\n",
       "      <td>0.085000</td>\n",
       "    </tr>\n",
       "    <tr>\n",
       "      <th>std</th>\n",
       "      <td>22.516840</td>\n",
       "      <td>0.26315</td>\n",
       "      <td>0.194593</td>\n",
       "      <td>6.636783</td>\n",
       "      <td>1.070672</td>\n",
       "      <td>40.708136</td>\n",
       "      <td>0.278883</td>\n",
       "    </tr>\n",
       "    <tr>\n",
       "      <th>min</th>\n",
       "      <td>0.080000</td>\n",
       "      <td>0.00000</td>\n",
       "      <td>0.000000</td>\n",
       "      <td>10.010000</td>\n",
       "      <td>3.500000</td>\n",
       "      <td>80.000000</td>\n",
       "      <td>0.000000</td>\n",
       "    </tr>\n",
       "    <tr>\n",
       "      <th>25%</th>\n",
       "      <td>24.000000</td>\n",
       "      <td>0.00000</td>\n",
       "      <td>0.000000</td>\n",
       "      <td>23.630000</td>\n",
       "      <td>4.800000</td>\n",
       "      <td>100.000000</td>\n",
       "      <td>0.000000</td>\n",
       "    </tr>\n",
       "    <tr>\n",
       "      <th>50%</th>\n",
       "      <td>43.000000</td>\n",
       "      <td>0.00000</td>\n",
       "      <td>0.000000</td>\n",
       "      <td>27.320000</td>\n",
       "      <td>5.800000</td>\n",
       "      <td>140.000000</td>\n",
       "      <td>0.000000</td>\n",
       "    </tr>\n",
       "    <tr>\n",
       "      <th>75%</th>\n",
       "      <td>60.000000</td>\n",
       "      <td>0.00000</td>\n",
       "      <td>0.000000</td>\n",
       "      <td>29.580000</td>\n",
       "      <td>6.200000</td>\n",
       "      <td>159.000000</td>\n",
       "      <td>0.000000</td>\n",
       "    </tr>\n",
       "    <tr>\n",
       "      <th>max</th>\n",
       "      <td>80.000000</td>\n",
       "      <td>1.00000</td>\n",
       "      <td>1.000000</td>\n",
       "      <td>95.690000</td>\n",
       "      <td>9.000000</td>\n",
       "      <td>300.000000</td>\n",
       "      <td>1.000000</td>\n",
       "    </tr>\n",
       "  </tbody>\n",
       "</table>\n",
       "</div>"
      ],
      "text/plain": [
       "                 age  hypertension  heart_disease            bmi  \\\n",
       "count  100000.000000  100000.00000  100000.000000  100000.000000   \n",
       "mean       41.885856       0.07485       0.039420      27.320767   \n",
       "std        22.516840       0.26315       0.194593       6.636783   \n",
       "min         0.080000       0.00000       0.000000      10.010000   \n",
       "25%        24.000000       0.00000       0.000000      23.630000   \n",
       "50%        43.000000       0.00000       0.000000      27.320000   \n",
       "75%        60.000000       0.00000       0.000000      29.580000   \n",
       "max        80.000000       1.00000       1.000000      95.690000   \n",
       "\n",
       "         HbA1c_level  blood_glucose_level       diabetes  \n",
       "count  100000.000000        100000.000000  100000.000000  \n",
       "mean        5.527507           138.058060       0.085000  \n",
       "std         1.070672            40.708136       0.278883  \n",
       "min         3.500000            80.000000       0.000000  \n",
       "25%         4.800000           100.000000       0.000000  \n",
       "50%         5.800000           140.000000       0.000000  \n",
       "75%         6.200000           159.000000       0.000000  \n",
       "max         9.000000           300.000000       1.000000  "
      ]
     },
     "execution_count": 6,
     "metadata": {},
     "output_type": "execute_result"
    }
   ],
   "source": [
    "# 查看数值型字段的分布\n",
    "df.describe()\n",
    "#可以看出bmi的数据显著出现异常值"
   ]
  },
  {
   "cell_type": "markdown",
   "id": "292b072d",
   "metadata": {},
   "source": [
    "## 探索性数据分析"
   ]
  },
  {
   "cell_type": "code",
   "execution_count": 7,
   "id": "70ddf7e4",
   "metadata": {},
   "outputs": [
    {
     "data": {
      "text/plain": [
       "Female    0.58552\n",
       "Male      0.41430\n",
       "Other     0.00018\n",
       "Name: gender, dtype: float64"
      ]
     },
     "execution_count": 7,
     "metadata": {},
     "output_type": "execute_result"
    }
   ],
   "source": [
    "df['gender'].value_counts(normalize=True)"
   ]
  },
  {
   "cell_type": "code",
   "execution_count": 8,
   "id": "08dfc68e",
   "metadata": {},
   "outputs": [
    {
     "data": {
      "text/plain": [
       "0    0.585625\n",
       "1    0.414375\n",
       "Name: gender, dtype: float64"
      ]
     },
     "execution_count": 8,
     "metadata": {},
     "output_type": "execute_result"
    }
   ],
   "source": [
    "df1 = df[df['gender'] != 'Other'].copy()\n",
    "df1['gender'] = df1['gender'].replace({'Male': 1, 'Female': 0})\n",
    "df1['gender'].value_counts(normalize=True)"
   ]
  },
  {
   "cell_type": "code",
   "execution_count": 9,
   "id": "8a952737",
   "metadata": {},
   "outputs": [
    {
     "data": {
      "image/png": "[encoded data removed]",
      "text/plain": [
       "<Figure size 432x288 with 1 Axes>"
      ]
     },
     "metadata": {
      "needs_background": "light"
     },
     "output_type": "display_data"
    }
   ],
   "source": [
    "#性别比例为6：4，在可以接受的范围内\n",
    "sns.countplot(x='gender', data=df1)\n",
    "plt.title(\"Gender Distribution\")\n",
    "plt.show()"
   ]
  },
  {
   "cell_type": "code",
   "execution_count": 10,
   "id": "90eaae2f",
   "metadata": {},
   "outputs": [
    {
     "data": {
      "image/png": "[encoded data removed]",
      "text/plain": [
       "<Figure size 432x288 with 1 Axes>"
      ]
     },
     "metadata": {
      "needs_background": "light"
     },
     "output_type": "display_data"
    }
   ],
   "source": [
    "sns.histplot(df1['age'], bins=30, kde=True)\n",
    "plt.title(\"Age Distribution\")\n",
    "plt.show()\n",
    "#年龄数据在高龄需后期与是否患病进行进一步判断探索"
   ]
  },
  {
   "cell_type": "code",
   "execution_count": 11,
   "id": "4d7c539d",
   "metadata": {},
   "outputs": [],
   "source": [
    "#根据建模方式不同，逻辑回归处理建议对各数据分类判断进行进行标准化归一化处理，提高鲁棒性，随机森林不做处理\n",
    "#高血压心脏病数据，0未患病，1患病，不做处理"
   ]
  },
  {
   "cell_type": "code",
   "execution_count": 12,
   "id": "295d0f87",
   "metadata": {},
   "outputs": [
    {
     "data": {
      "text/plain": [
       "No Info        0.358164\n",
       "never          0.350983\n",
       "former         0.093537\n",
       "current        0.092877\n",
       "not current    0.064402\n",
       "ever           0.040037\n",
       "Name: smoking_history, dtype: float64"
      ]
     },
     "execution_count": 12,
     "metadata": {},
     "output_type": "execute_result"
    }
   ],
   "source": [
    "df1['smoking_history'].value_counts(normalize=True)"
   ]
  },
  {
   "cell_type": "code",
   "execution_count": 13,
   "id": "ca1f06f9",
   "metadata": {},
   "outputs": [
    {
     "data": {
      "text/plain": [
       "3    0.358164\n",
       "0    0.350983\n",
       "1    0.197976\n",
       "2    0.092877\n",
       "Name: smoking_history, dtype: float64"
      ]
     },
     "execution_count": 13,
     "metadata": {},
     "output_type": "execute_result"
    }
   ],
   "source": [
    "df1['smoking_history'] = df1['smoking_history'].replace({'never': 0, 'former': 1,'not current': 1,'ever': 1, 'current': 2,'No Info': 3})\n",
    "df1['smoking_history'].value_counts(normalize=True)"
   ]
  },
  {
   "cell_type": "code",
   "execution_count": 14,
   "id": "d2d5d688",
   "metadata": {},
   "outputs": [
    {
     "data": {
      "image/png": "[encoded data removed]",
      "text/plain": [
       "<Figure size 432x288 with 1 Axes>"
      ]
     },
     "metadata": {
      "needs_background": "light"
     },
     "output_type": "display_data"
    }
   ],
   "source": [
    "sns.countplot(x='smoking_history', data=df1)\n",
    "plt.title(\"Smoking Status Distribution\")\n",
    "plt.xticks(rotation=45)\n",
    "plt.show()"
   ]
  },
  {
   "cell_type": "code",
   "execution_count": 15,
   "id": "3cd0b36e",
   "metadata": {},
   "outputs": [
    {
     "data": {
      "image/png": "[encoded data removed]",
      "text/plain": [
       "<Figure size 432x288 with 1 Axes>"
      ]
     },
     "metadata": {
      "needs_background": "light"
     },
     "output_type": "display_data"
    }
   ],
   "source": [
    "sns.boxplot(x=df1['bmi'])\n",
    "plt.title(\"Boxplot of BMI\")\n",
    "plt.show()"
   ]
  },
  {
   "cell_type": "code",
   "execution_count": 16,
   "id": "991009ac",
   "metadata": {},
   "outputs": [
    {
     "name": "stderr",
     "output_type": "stream",
     "text": [
      "<ipython-input-16-7f389afb63f4>:2: UserWarning: Boolean Series key will be reindexed to match DataFrame index.\n",
      "  df1 = df1[(df['bmi'] >= 12) & (df['bmi'] <= 60)]\n"
     ]
    },
    {
     "data": {
      "image/png": "[encoded data removed]",
      "text/plain": [
       "<Figure size 432x288 with 1 Axes>"
      ]
     },
     "metadata": {
      "needs_background": "light"
     },
     "output_type": "display_data"
    }
   ],
   "source": [
    "#通过探索性查看以及查询相关知识，可以得知bmi的异常值较多，进行删除处理\n",
    "df1 = df1[(df['bmi'] >= 12) & (df['bmi'] <= 60)]\n",
    "sns.boxplot(x=df1['bmi'])\n",
    "plt.title(\"Boxplot of BMI\")\n",
    "plt.show()"
   ]
  },
  {
   "cell_type": "code",
   "execution_count": 17,
   "id": "5fc317ef",
   "metadata": {},
   "outputs": [
    {
     "data": {
      "image/png": "[encoded data removed]",
      "text/plain": [
       "<Figure size 432x288 with 1 Axes>"
      ]
     },
     "metadata": {
      "needs_background": "light"
     },
     "output_type": "display_data"
    }
   ],
   "source": [
    "sns.boxplot(x=df1['HbA1c_level'])\n",
    "plt.title(\"HbA1c Level Boxplot\")\n",
    "plt.show()"
   ]
  },
  {
   "cell_type": "code",
   "execution_count": 18,
   "id": "76edd82a",
   "metadata": {},
   "outputs": [
    {
     "data": {
      "image/png": "[encoded data removed]",
      "text/plain": [
       "<Figure size 432x288 with 1 Axes>"
      ]
     },
     "metadata": {
      "needs_background": "light"
     },
     "output_type": "display_data"
    }
   ],
   "source": [
    "sns.histplot(df1['HbA1c_level'], bins=30, kde=True)\n",
    "plt.title(\"HbA1c Level Distribution\")\n",
    "plt.show()"
   ]
  },
  {
   "cell_type": "code",
   "execution_count": 19,
   "id": "ae4f5882",
   "metadata": {},
   "outputs": [
    {
     "data": {
      "image/png": "[encoded data removed]",
      "text/plain": [
       "<Figure size 432x288 with 1 Axes>"
      ]
     },
     "metadata": {
      "needs_background": "light"
     },
     "output_type": "display_data"
    }
   ],
   "source": [
    "sns.boxplot(x=df1['blood_glucose_level'])\n",
    "plt.title(\"blood_glucose_level Boxplot\")\n",
    "plt.show()"
   ]
  },
  {
   "cell_type": "code",
   "execution_count": 20,
   "id": "a0a6f331",
   "metadata": {},
   "outputs": [
    {
     "data": {
      "image/png": "[encoded data removed]",
      "text/plain": [
       "<Figure size 432x288 with 1 Axes>"
      ]
     },
     "metadata": {
      "needs_background": "light"
     },
     "output_type": "display_data"
    }
   ],
   "source": [
    "sns.histplot(df1['blood_glucose_level'], bins=30, kde=True)\n",
    "plt.title(\"blood_glucose_level Distribution\")\n",
    "plt.show()"
   ]
  },
  {
   "cell_type": "code",
   "execution_count": 21,
   "id": "2dad7da6",
   "metadata": {},
   "outputs": [],
   "source": [
    "#以上，初步异常值检查完成，少量异常值暂做保留处理，若对逻辑回归的产生影响，建议删除处理"
   ]
  },
  {
   "cell_type": "markdown",
   "id": "98b9423d",
   "metadata": {},
   "source": [
    "## 单变量分析"
   ]
  },
  {
   "cell_type": "markdown",
   "id": "7354e942",
   "metadata": {},
   "source": [
    "### 连续型特征分析"
   ]
  },
  {
   "cell_type": "code",
   "execution_count": 22,
   "id": "71ed93c7",
   "metadata": {},
   "outputs": [
    {
     "data": {
      "image/png": "[encoded data removed]",
      "text/plain": [
       "<Figure size 720x432 with 1 Axes>"
      ]
     },
     "metadata": {
      "needs_background": "light"
     },
     "output_type": "display_data"
    }
   ],
   "source": [
    "#年龄\n",
    "plt.figure(figsize=(10, 6))\n",
    "df1[df1['diabetes'] == 0]['age'].plot(kind='hist', bins=30, alpha=0.5, label='未患病', color='skyblue')\n",
    "df1[df1['diabetes'] == 1]['age'].plot(kind='hist', bins=30, alpha=0.5, label='患病', color='salmon')\n",
    "plt.legend()\n",
    "plt.title('年龄分布 vs 是否患病')\n",
    "plt.xlabel('Age')\n",
    "plt.ylabel('频数')\n",
    "plt.show()"
   ]
  },
  {
   "cell_type": "code",
   "execution_count": 23,
   "id": "b599bb76",
   "metadata": {},
   "outputs": [
    {
     "data": {
      "image/png": "[encoded data removed]",
      "text/plain": [
       "<Figure size 576x360 with 1 Axes>"
      ]
     },
     "metadata": {
      "needs_background": "light"
     },
     "output_type": "display_data"
    }
   ],
   "source": [
    "plt.figure(figsize=(8, 5))\n",
    "sns.boxplot(x='diabetes', y='age', data=df1)\n",
    "plt.title('Age vs Diabetes - 箱型图')\n",
    "plt.xlabel('是否患病')\n",
    "plt.ylabel('年龄')\n",
    "plt.show()"
   ]
  },
  {
   "cell_type": "code",
   "execution_count": 24,
   "id": "2a5aaa0e",
   "metadata": {},
   "outputs": [
    {
     "name": "stdout",
     "output_type": "stream",
     "text": [
      "年龄与是否患病的U检验 p值为: 0.0000\n"
     ]
    }
   ],
   "source": [
    "group0 = df1[df1['diabetes'] == 0]['age']\n",
    "group1 = df1[df1['diabetes'] == 1]['age']\n",
    "\n",
    "stat, p = mannwhitneyu(group0, group1)\n",
    "print(f\"年龄与是否患病的U检验 p值为: {p:.4f}\")"
   ]
  },
  {
   "cell_type": "code",
   "execution_count": 25,
   "id": "ad467eeb",
   "metadata": {},
   "outputs": [],
   "source": [
    "#在单变量分析中，年龄作为连续变量，其分布在患病组与未患病组中呈现出极显著差异（p < 0.0001）\n",
    "#表明该变量对于糖尿病预测具有较强的判别力。\n",
    "#但考虑到数据集中变量分布理想化程度较高，可能存在采集偏倚或样本筛选的问题，需在泛化模型时加以注意。"
   ]
  },
  {
   "cell_type": "code",
   "execution_count": 26,
   "id": "de20801d",
   "metadata": {},
   "outputs": [
    {
     "data": {
      "image/png": "[encoded data removed]",
      "text/plain": [
       "<Figure size 432x288 with 1 Axes>"
      ]
     },
     "metadata": {
      "needs_background": "light"
     },
     "output_type": "display_data"
    }
   ],
   "source": [
    "#bmi\n",
    "sns.boxplot(data=df1, x='diabetes', y='bmi')\n",
    "plt.title(\"BMI Distribution by Diabetes Status\")\n",
    "plt.show()"
   ]
  },
  {
   "cell_type": "code",
   "execution_count": 27,
   "id": "e66dba78",
   "metadata": {},
   "outputs": [
    {
     "data": {
      "image/png": "[encoded data removed]",
      "text/plain": [
       "<Figure size 432x288 with 1 Axes>"
      ]
     },
     "metadata": {
      "needs_background": "light"
     },
     "output_type": "display_data"
    }
   ],
   "source": [
    "sns.histplot(data=df1, x='bmi', hue='diabetes', kde=True, bins=30)\n",
    "plt.title(\"BMI Histogram by Diabetes Status\")\n",
    "plt.show()"
   ]
  },
  {
   "cell_type": "code",
   "execution_count": 28,
   "id": "562a908f",
   "metadata": {},
   "outputs": [
    {
     "name": "stdout",
     "output_type": "stream",
     "text": [
      "U检验的p值为: 0.0\n"
     ]
    }
   ],
   "source": [
    "bmi_0 = df1[df1['diabetes'] == 0]['bmi']\n",
    "bmi_1 = df1[df1['diabetes'] == 1]['bmi']\n",
    "\n",
    "stat, p = mannwhitneyu(bmi_0, bmi_1)\n",
    "print(f\"U检验的p值为: {p}\")"
   ]
  },
  {
   "cell_type": "code",
   "execution_count": 29,
   "id": "c39130f7",
   "metadata": {},
   "outputs": [],
   "source": [
    "#对 BMI 变量进行分析发现，患病组的 BMI 均值略高于未患病组，箱型图显示其分布存在一定差异。\n",
    "#进一步使用 Mann-Whitney U 检验，p 值为0，说明该变量在两组间差异具有统计学意义，可作为模型特征之一。"
   ]
  },
  {
   "cell_type": "code",
   "execution_count": 30,
   "id": "cbddf702",
   "metadata": {},
   "outputs": [
    {
     "data": {
      "image/png": "[encoded data removed]",
      "text/plain": [
       "<Figure size 432x288 with 1 Axes>"
      ]
     },
     "metadata": {
      "needs_background": "light"
     },
     "output_type": "display_data"
    }
   ],
   "source": [
    "#HbA1c_level\n",
    "sns.boxplot(x='diabetes', y='HbA1c_level', data=df1)\n",
    "plt.title('HbA1c Level by Diabetes Status')\n",
    "plt.show()"
   ]
  },
  {
   "cell_type": "code",
   "execution_count": 31,
   "id": "25d62212",
   "metadata": {},
   "outputs": [
    {
     "data": {
      "image/png": "[encoded data removed]",
      "text/plain": [
       "<Figure size 432x288 with 1 Axes>"
      ]
     },
     "metadata": {
      "needs_background": "light"
     },
     "output_type": "display_data"
    }
   ],
   "source": [
    "sns.kdeplot(data=df1, x='HbA1c_level', hue='diabetes', fill=True)\n",
    "plt.title('HbA1c Distribution by Diabetes Status')\n",
    "plt.show()"
   ]
  },
  {
   "cell_type": "code",
   "execution_count": 32,
   "id": "9ab4ec5d",
   "metadata": {},
   "outputs": [
    {
     "name": "stdout",
     "output_type": "stream",
     "text": [
      "Mann-Whitney U test: stat=648131514.0, p=0.0\n"
     ]
    }
   ],
   "source": [
    "diabetes_yes = df1[df1['diabetes'] == 1]['HbA1c_level']\n",
    "diabetes_no = df1[df1['diabetes'] == 0]['HbA1c_level']\n",
    "\n",
    "stat, p = mannwhitneyu(diabetes_yes, diabetes_no)\n",
    "print(f'Mann-Whitney U test: stat={stat}, p={p}')"
   ]
  },
  {
   "cell_type": "code",
   "execution_count": 33,
   "id": "9f4784fe",
   "metadata": {},
   "outputs": [],
   "source": [
    "#由图像可得，未患病人群糖化血红蛋白高于患病人群，由p值也可得出显著性结论，可以作为保留特征"
   ]
  },
  {
   "cell_type": "code",
   "execution_count": 34,
   "id": "40dc2b65",
   "metadata": {},
   "outputs": [
    {
     "data": {
      "image/png": "[encoded data removed]",
      "text/plain": [
       "<Figure size 432x288 with 1 Axes>"
      ]
     },
     "metadata": {
      "needs_background": "light"
     },
     "output_type": "display_data"
    }
   ],
   "source": [
    "#blood_glucose_level\n",
    "# 箱型图\n",
    "sns.boxplot(x='diabetes', y='blood_glucose_level', data=df1)\n",
    "plt.title('Blood Glucose Level by Diabetes Status')\n",
    "plt.show()"
   ]
  },
  {
   "cell_type": "code",
   "execution_count": 35,
   "id": "3f2108a1",
   "metadata": {},
   "outputs": [
    {
     "data": {
      "image/png": "[encoded data removed]",
      "text/plain": [
       "<Figure size 432x288 with 1 Axes>"
      ]
     },
     "metadata": {
      "needs_background": "light"
     },
     "output_type": "display_data"
    }
   ],
   "source": [
    "# KDE 密度图\n",
    "sns.kdeplot(data=df1, x='blood_glucose_level', hue='diabetes', fill=True)\n",
    "plt.title('Blood Glucose Distribution by Diabetes Status')\n",
    "plt.show()"
   ]
  },
  {
   "cell_type": "code",
   "execution_count": 36,
   "id": "72400ca7",
   "metadata": {},
   "outputs": [
    {
     "name": "stdout",
     "output_type": "stream",
     "text": [
      "Mann-Whitney U test: stat=604878899.0, p=0.0\n"
     ]
    }
   ],
   "source": [
    "glu_yes = df1[df1['diabetes'] == 1]['blood_glucose_level']\n",
    "glu_no = df1[df1['diabetes'] == 0]['blood_glucose_level']\n",
    "\n",
    "stat, p = mannwhitneyu(glu_yes, glu_no)\n",
    "print(f'Mann-Whitney U test: stat={stat}, p={p}')"
   ]
  },
  {
   "cell_type": "markdown",
   "id": "8598c63c",
   "metadata": {},
   "source": [
    "### 分类型变量"
   ]
  },
  {
   "cell_type": "code",
   "execution_count": 37,
   "id": "75a30399",
   "metadata": {},
   "outputs": [
    {
     "name": "stdout",
     "output_type": "stream",
     "text": [
      "diabetes         0         1\n",
      "gender                      \n",
      "0         0.924181  0.075819\n",
      "1         0.902575  0.097425\n"
     ]
    }
   ],
   "source": [
    "#gender\n",
    "# 交叉表\n",
    "gender_crosstab = pd.crosstab(df1['gender'], df1['diabetes'], normalize='index')\n",
    "print(gender_crosstab)"
   ]
  },
  {
   "cell_type": "code",
   "execution_count": 38,
   "id": "7f4bfb7b",
   "metadata": {},
   "outputs": [
    {
     "data": {
      "image/png": "[encoded data removed]",
      "text/plain": [
       "<Figure size 432x288 with 1 Axes>"
      ]
     },
     "metadata": {
      "needs_background": "light"
     },
     "output_type": "display_data"
    }
   ],
   "source": [
    "# 条形图\n",
    "gender_crosstab.plot(kind='bar', stacked=True)\n",
    "plt.title('Diabetes Proportion by Gender')\n",
    "plt.ylabel('Proportion')\n",
    "plt.show()"
   ]
  },
  {
   "cell_type": "code",
   "execution_count": 39,
   "id": "0ffa8021",
   "metadata": {},
   "outputs": [
    {
     "name": "stdout",
     "output_type": "stream",
     "text": [
      "Chi-square test: chi2=145.42393865383696, p=1.7349155462960127e-33\n"
     ]
    }
   ],
   "source": [
    "# 原始频数交叉表\n",
    "contingency = pd.crosstab(df1['gender'], df1['diabetes'])\n",
    "chi2, p, dof, expected = chi2_contingency(contingency)\n",
    "print(f'Chi-square test: chi2={chi2}, p={p}')"
   ]
  },
  {
   "cell_type": "code",
   "execution_count": 40,
   "id": "1ce4bce5",
   "metadata": {},
   "outputs": [],
   "source": [
    "#存在显著性关系，特征保留"
   ]
  },
  {
   "cell_type": "code",
   "execution_count": 41,
   "id": "dd937b92",
   "metadata": {},
   "outputs": [
    {
     "name": "stdout",
     "output_type": "stream",
     "text": [
      "diabetes          0     1\n",
      "hypertension             \n",
      "0             85940  6381\n",
      "1              5385  2078\n"
     ]
    }
   ],
   "source": [
    "#hypertension\n",
    "# 构建交叉表\n",
    "ct = pd.crosstab(df1['hypertension'], df1['diabetes'])\n",
    "print(ct)"
   ]
  },
  {
   "cell_type": "code",
   "execution_count": 42,
   "id": "531da0c5",
   "metadata": {},
   "outputs": [
    {
     "data": {
      "image/png": "[encoded data removed]",
      "text/plain": [
       "<Figure size 432x288 with 1 Axes>"
      ]
     },
     "metadata": {
      "needs_background": "light"
     },
     "output_type": "display_data"
    }
   ],
   "source": [
    "# 可视化：条形图\n",
    "sns.countplot(x='hypertension', hue='diabetes', data=df1)\n",
    "plt.title(\"Diabetes Rate by Hypertension\")\n",
    "plt.xlabel(\"Hypertension\")\n",
    "plt.ylabel(\"Count\")\n",
    "plt.show()"
   ]
  },
  {
   "cell_type": "code",
   "execution_count": 43,
   "id": "fa1eea49",
   "metadata": {},
   "outputs": [
    {
     "name": "stdout",
     "output_type": "stream",
     "text": [
      "Chi2 = 3896.714251312905, p = 0.0\n"
     ]
    }
   ],
   "source": [
    "# 进行卡方检验\n",
    "chi2, p, dof, expected = chi2_contingency(ct)\n",
    "print(f\"Chi2 = {chi2}, p = {p}\")"
   ]
  },
  {
   "cell_type": "code",
   "execution_count": 44,
   "id": "0b9241f7",
   "metadata": {},
   "outputs": [
    {
     "name": "stdout",
     "output_type": "stream",
     "text": [
      "diabetes           0     1\n",
      "heart_disease             \n",
      "0              88653  7196\n",
      "1               2672  1263\n"
     ]
    }
   ],
   "source": [
    "#heart_disease\n",
    "# 构建交叉表\n",
    "ct = pd.crosstab(df1['heart_disease'], df1['diabetes'])\n",
    "print(ct)"
   ]
  },
  {
   "cell_type": "code",
   "execution_count": 45,
   "id": "85460b6f",
   "metadata": {},
   "outputs": [
    {
     "data": {
      "image/png": "[encoded data removed]",
      "text/plain": [
       "<Figure size 432x288 with 1 Axes>"
      ]
     },
     "metadata": {
      "needs_background": "light"
     },
     "output_type": "display_data"
    }
   ],
   "source": [
    "# 可视化：条形图\n",
    "sns.countplot(x='heart_disease', hue='diabetes', data=df1)\n",
    "plt.title(\"Diabetes Rate by Heart Disease\")\n",
    "plt.xlabel(\"Heart Disease\")\n",
    "plt.ylabel(\"Count\")\n",
    "plt.show()"
   ]
  },
  {
   "cell_type": "code",
   "execution_count": 46,
   "id": "54988a63",
   "metadata": {},
   "outputs": [
    {
     "name": "stdout",
     "output_type": "stream",
     "text": [
      "Chi2 = 2942.36320397526, p = 0.0\n"
     ]
    }
   ],
   "source": [
    "# 进行卡方检验\n",
    "chi2, p, dof, expected = chi2_contingency(ct)\n",
    "print(f\"Chi2 = {chi2}, p = {p}\")"
   ]
  },
  {
   "cell_type": "code",
   "execution_count": 47,
   "id": "238602ef",
   "metadata": {},
   "outputs": [
    {
     "name": "stdout",
     "output_type": "stream",
     "text": [
      "diabetes             0     1\n",
      "smoking_history             \n",
      "0                31702  3325\n",
      "1                17025  2745\n",
      "2                 8328   942\n"
     ]
    }
   ],
   "source": [
    "#smoking_history\n",
    "df_smoking = df1[df1['smoking_history'] != 3]\n",
    "# 交叉表\n",
    "ct = pd.crosstab(df_smoking['smoking_history'], df_smoking['diabetes'])\n",
    "print(ct)"
   ]
  },
  {
   "cell_type": "code",
   "execution_count": 48,
   "id": "0952e390",
   "metadata": {},
   "outputs": [
    {
     "data": {
      "image/png": "[encoded data removed]",
      "text/plain": [
       "<Figure size 432x288 with 1 Axes>"
      ]
     },
     "metadata": {
      "needs_background": "light"
     },
     "output_type": "display_data"
    }
   ],
   "source": [
    "# 可视化\n",
    "sns.countplot(x='smoking_history', hue='diabetes', data=df_smoking)\n",
    "plt.title(\"Diabetes Rate by Smoking Status\")\n",
    "plt.xlabel(\"Smoking Status\")\n",
    "plt.ylabel(\"Count\")\n",
    "plt.show()"
   ]
  },
  {
   "cell_type": "code",
   "execution_count": 49,
   "id": "df0b1751",
   "metadata": {},
   "outputs": [
    {
     "name": "stdout",
     "output_type": "stream",
     "text": [
      "Chi2 = 256.91484478043856, p = 1.6279846152560488e-56\n"
     ]
    }
   ],
   "source": [
    "# 卡方检验\n",
    "chi2, p, dof, expected = chi2_contingency(ct)\n",
    "print(f\"Chi2 = {chi2}, p = {p}\")"
   ]
  },
  {
   "cell_type": "code",
   "execution_count": 50,
   "id": "6226a911",
   "metadata": {},
   "outputs": [
    {
     "name": "stdout",
     "output_type": "stream",
     "text": [
      "数据维度: (64067, 9)\n"
     ]
    }
   ],
   "source": [
    "#因SmokingStatus字段中‘No Info’占比达30%以上，作为不可判定类，故在进行与糖尿病状态的关系分析时暂不计入主分析，另行讨论\n",
    "df2 = df1[df1['smoking_history'] != 3]\n",
    "print(\"数据维度:\", df2.shape)\n",
    "\n",
    "#综上所述，8个字段皆对结果具有显著性影响"
   ]
  },
  {
   "cell_type": "markdown",
   "id": "4ef06586",
   "metadata": {},
   "source": [
    "## 特征间相关性分析"
   ]
  },
  {
   "cell_type": "code",
   "execution_count": 51,
   "id": "5f319725",
   "metadata": {},
   "outputs": [
    {
     "data": {
      "image/png": "[encoded data removed]",
      "text/plain": [
       "<Figure size 720x576 with 2 Axes>"
      ]
     },
     "metadata": {
      "needs_background": "light"
     },
     "output_type": "display_data"
    }
   ],
   "source": [
    "# 选出数值型字段\n",
    "numeric_cols = df2.select_dtypes(include=['float64', 'int64']).columns\n",
    "\n",
    "# 计算相关系数矩阵\n",
    "corr_matrix = df2[numeric_cols].corr(method='pearson')\n",
    "\n",
    "# 可视化\n",
    "plt.figure(figsize=(10, 8))\n",
    "sns.heatmap(corr_matrix, annot=True, cmap='coolwarm', fmt=\".2f\", square=True)\n",
    "plt.title(\"Feature Correlation Heatmap\")\n",
    "plt.show()"
   ]
  },
  {
   "cell_type": "code",
   "execution_count": 52,
   "id": "52f11c75",
   "metadata": {},
   "outputs": [],
   "source": [
    "#特征间无强相关性，冗余风险较低"
   ]
  },
  {
   "cell_type": "code",
   "execution_count": 53,
   "id": "f390f31b",
   "metadata": {},
   "outputs": [
    {
     "data": {
      "text/html": [
       "<div>\n",
       "<style scoped>\n",
       "    .dataframe tbody tr th:only-of-type {\n",
       "        vertical-align: middle;\n",
       "    }\n",
       "\n",
       "    .dataframe tbody tr th {\n",
       "        vertical-align: top;\n",
       "    }\n",
       "\n",
       "    .dataframe thead th {\n",
       "        text-align: right;\n",
       "    }\n",
       "</style>\n",
       "<table border=\"1\" class=\"dataframe\">\n",
       "  <thead>\n",
       "    <tr style=\"text-align: right;\">\n",
       "      <th></th>\n",
       "      <th>feature</th>\n",
       "      <th>VIF</th>\n",
       "    </tr>\n",
       "  </thead>\n",
       "  <tbody>\n",
       "    <tr>\n",
       "      <th>0</th>\n",
       "      <td>const</td>\n",
       "      <td>50.467114</td>\n",
       "    </tr>\n",
       "    <tr>\n",
       "      <th>1</th>\n",
       "      <td>gender</td>\n",
       "      <td>1.018341</td>\n",
       "    </tr>\n",
       "    <tr>\n",
       "      <th>2</th>\n",
       "      <td>age</td>\n",
       "      <td>1.158112</td>\n",
       "    </tr>\n",
       "    <tr>\n",
       "      <th>3</th>\n",
       "      <td>hypertension</td>\n",
       "      <td>1.086645</td>\n",
       "    </tr>\n",
       "    <tr>\n",
       "      <th>4</th>\n",
       "      <td>heart_disease</td>\n",
       "      <td>1.077095</td>\n",
       "    </tr>\n",
       "    <tr>\n",
       "      <th>5</th>\n",
       "      <td>smoking_history</td>\n",
       "      <td>1.016656</td>\n",
       "    </tr>\n",
       "    <tr>\n",
       "      <th>6</th>\n",
       "      <td>bmi</td>\n",
       "      <td>1.045685</td>\n",
       "    </tr>\n",
       "    <tr>\n",
       "      <th>7</th>\n",
       "      <td>HbA1c_level</td>\n",
       "      <td>1.055449</td>\n",
       "    </tr>\n",
       "    <tr>\n",
       "      <th>8</th>\n",
       "      <td>blood_glucose_level</td>\n",
       "      <td>1.057784</td>\n",
       "    </tr>\n",
       "  </tbody>\n",
       "</table>\n",
       "</div>"
      ],
      "text/plain": [
       "               feature        VIF\n",
       "0                const  50.467114\n",
       "1               gender   1.018341\n",
       "2                  age   1.158112\n",
       "3         hypertension   1.086645\n",
       "4        heart_disease   1.077095\n",
       "5      smoking_history   1.016656\n",
       "6                  bmi   1.045685\n",
       "7          HbA1c_level   1.055449\n",
       "8  blood_glucose_level   1.057784"
      ]
     },
     "execution_count": 53,
     "metadata": {},
     "output_type": "execute_result"
    }
   ],
   "source": [
    "# 假设 y 是目标变量，X 是特征矩阵\n",
    "X = df2.drop(columns=['diabetes'])\n",
    "X = add_constant(X)  # 加常数项\n",
    "# 计算 VIF\n",
    "vif_data = pd.DataFrame()\n",
    "vif_data[\"feature\"] = X.columns\n",
    "vif_data[\"VIF\"] = [variance_inflation_factor(X.values, i) for i in range(X.shape[1])]\n",
    "vif_data"
   ]
  },
  {
   "cell_type": "code",
   "execution_count": 54,
   "id": "41ab5736",
   "metadata": {},
   "outputs": [],
   "source": [
    "#特征间无共线性，无冗余重复信息，可以全部参与模型训练"
   ]
  },
  {
   "cell_type": "markdown",
   "id": "3b6c9485",
   "metadata": {},
   "source": [
    "## 随机森林建模"
   ]
  },
  {
   "cell_type": "code",
   "execution_count": 55,
   "id": "85c4b6ea",
   "metadata": {},
   "outputs": [
    {
     "data": {
      "text/plain": [
       "RandomForestClassifier(random_state=42)"
      ]
     },
     "execution_count": 55,
     "metadata": {},
     "output_type": "execute_result"
    }
   ],
   "source": [
    "# 拆分特征和目标\n",
    "X = df2.drop(columns=['diabetes'])\n",
    "y = df2['diabetes']\n",
    "\n",
    "# 拆分训练集和测试集（8：2）\n",
    "X_train, X_test, y_train, y_test = train_test_split(X, y, test_size=0.2, random_state=42)\n",
    "\n",
    "# 初始化模型\n",
    "rf_model = RandomForestClassifier(random_state=42)\n",
    "\n",
    "# 拟合模型\n",
    "rf_model.fit(X_train, y_train)"
   ]
  },
  {
   "cell_type": "code",
   "execution_count": 56,
   "id": "539471d2",
   "metadata": {},
   "outputs": [
    {
     "name": "stdout",
     "output_type": "stream",
     "text": [
      "准确率: 0.9613703761510848\n"
     ]
    }
   ],
   "source": [
    "# 预测\n",
    "y_pred = rf_model.predict(X_test)\n",
    "\n",
    "# 准确率\n",
    "print(\"准确率:\", accuracy_score(y_test, y_pred))"
   ]
  },
  {
   "cell_type": "code",
   "execution_count": 57,
   "id": "f250d684",
   "metadata": {},
   "outputs": [
    {
     "name": "stdout",
     "output_type": "stream",
     "text": [
      "混淆矩阵:\n",
      " [[11382    51]\n",
      " [  444   937]]\n"
     ]
    }
   ],
   "source": [
    "# 混淆矩阵\n",
    "print(\"混淆矩阵:\\n\", confusion_matrix(y_test, y_pred))"
   ]
  },
  {
   "cell_type": "code",
   "execution_count": 58,
   "id": "de4b1ff2",
   "metadata": {},
   "outputs": [
    {
     "name": "stdout",
     "output_type": "stream",
     "text": [
      "分类报告:\n",
      "               precision    recall  f1-score   support\n",
      "\n",
      "           0       0.96      1.00      0.98     11433\n",
      "           1       0.95      0.68      0.79      1381\n",
      "\n",
      "    accuracy                           0.96     12814\n",
      "   macro avg       0.96      0.84      0.88     12814\n",
      "weighted avg       0.96      0.96      0.96     12814\n",
      "\n"
     ]
    }
   ],
   "source": [
    "# 分类报告\n",
    "print(\"分类报告:\\n\", classification_report(y_test, y_pred))\n",
    "#召回率在医学样本中较低，需要改进"
   ]
  },
  {
   "cell_type": "code",
   "execution_count": 59,
   "id": "4be6418a",
   "metadata": {},
   "outputs": [
    {
     "data": {
      "image/png": "[encoded data removed]",
      "text/plain": [
       "<Figure size 720x432 with 1 Axes>"
      ]
     },
     "metadata": {
      "needs_background": "light"
     },
     "output_type": "display_data"
    }
   ],
   "source": [
    "# 提取特征重要性\n",
    "importances = rf_model.feature_importances_\n",
    "features = X.columns\n",
    "\n",
    "# 排序\n",
    "feat_importance = pd.Series(importances, index=features).sort_values(ascending=False)\n",
    "\n",
    "# 可视化\n",
    "plt.figure(figsize=(10,6))\n",
    "feat_importance.plot(kind='bar')\n",
    "plt.title(\"特征重要性 - 随机森林\")\n",
    "plt.ylabel(\"重要性分数\")\n",
    "plt.xlabel(\"特征\")\n",
    "plt.tight_layout()\n",
    "plt.show()"
   ]
  },
  {
   "cell_type": "code",
   "execution_count": 60,
   "id": "3b30a0db",
   "metadata": {},
   "outputs": [
    {
     "data": {
      "text/plain": [
       "RandomForestClassifier(class_weight='balanced', random_state=42)"
      ]
     },
     "execution_count": 60,
     "metadata": {},
     "output_type": "execute_result"
    }
   ],
   "source": [
    "# 添加 class_weight 惩罚项\n",
    "rf_model = RandomForestClassifier(class_weight='balanced', random_state=42)\n",
    "rf_model.fit(X_train, y_train)"
   ]
  },
  {
   "cell_type": "code",
   "execution_count": 61,
   "id": "9f5f2e5a",
   "metadata": {},
   "outputs": [
    {
     "name": "stdout",
     "output_type": "stream",
     "text": [
      "混淆矩阵:\n",
      " [[11157   276]\n",
      " [  347  1034]]\n",
      "分类报告:\n",
      "               precision    recall  f1-score   support\n",
      "\n",
      "           0       0.97      0.98      0.97     11433\n",
      "           1       0.79      0.75      0.77      1381\n",
      "\n",
      "    accuracy                           0.95     12814\n",
      "   macro avg       0.88      0.86      0.87     12814\n",
      "weighted avg       0.95      0.95      0.95     12814\n",
      "\n",
      "AUC得分: 0.9621332875798826\n"
     ]
    }
   ],
   "source": [
    "# 获取预测概率（注意是正类的概率）\n",
    "y_probs = rf_model.predict_proba(X_test)[:, 1]  # 取患病为1的那一列\n",
    "\n",
    "# 自定义阈值\n",
    "threshold = 0.31\n",
    "y_pred_custom = (y_probs >= threshold).astype(int)\n",
    "\n",
    "# 混淆矩阵 + 分类报告\n",
    "print(\"混淆矩阵:\\n\", confusion_matrix(y_test, y_pred_custom))\n",
    "print(\"分类报告:\\n\", classification_report(y_test, y_pred_custom))\n",
    "\n",
    "# AUC得分（衡量整体分数能力）\n",
    "print(\"AUC得分:\", roc_auc_score(y_test, y_probs))\n",
    "\n",
    "#患病样本召回率提高\n",
    "#根据多次调试参数，以及考虑到预测糖尿病的目的，阈值为0.31时，召回率和准确率能达到较为满意的水平"
   ]
  },
  {
   "cell_type": "code",
   "execution_count": 62,
   "id": "3c32e43d",
   "metadata": {},
   "outputs": [
    {
     "data": {
      "image/png": "[encoded data removed]",
      "text/plain": [
       "<Figure size 720x432 with 1 Axes>"
      ]
     },
     "metadata": {
      "needs_background": "light"
     },
     "output_type": "display_data"
    }
   ],
   "source": [
    "thresholds = np.arange(0.1, 0.9, 0.05)\n",
    "precisions = []\n",
    "recalls = []\n",
    "\n",
    "for t in thresholds:\n",
    "    y_pred_temp = (y_probs >= t).astype(int)\n",
    "    precisions.append(precision_score(y_test, y_pred_temp))\n",
    "    recalls.append(recall_score(y_test, y_pred_temp))\n",
    "\n",
    "plt.figure(figsize=(10,6))\n",
    "plt.plot(thresholds, precisions, label='Precision')\n",
    "plt.plot(thresholds, recalls, label='Recall')\n",
    "plt.xlabel('Threshold')\n",
    "plt.ylabel('Score')\n",
    "plt.title('Threshold vs Precision & Recall')\n",
    "plt.legend()\n",
    "plt.grid(True)\n",
    "plt.show()"
   ]
  },
  {
   "cell_type": "markdown",
   "id": "cf88ebef",
   "metadata": {},
   "source": [
    "## 泛化能力测试（未找到合适数据，暂时中止）"
   ]
  },
  {
   "cell_type": "markdown",
   "id": "a3f06d68",
   "metadata": {},
   "source": [
    "### 字段对齐"
   ]
  },
  {
   "cell_type": "markdown",
   "id": "1d2a346a",
   "metadata": {},
   "source": [
    "### 数据清洗"
   ]
  },
  {
   "cell_type": "code",
   "execution_count": null,
   "id": "707e3373",
   "metadata": {},
   "outputs": [],
   "source": []
  }
 ],
 "metadata": {
  "kernelspec": {
   "display_name": "Python 3",
   "language": "python",
   "name": "python3"
  },
  "language_info": {
   "codemirror_mode": {
    "name": "ipython",
    "version": 3
   },
   "file_extension": ".py",
   "mimetype": "text/x-python",
   "name": "python",
   "nbconvert_exporter": "python",
   "pygments_lexer": "ipython3",
   "version": "3.8.8"
  },
  "toc": {
   "base_numbering": 1,
   "nav_menu": {},
   "number_sections": true,
   "sideBar": true,
   "skip_h1_title": false,
   "title_cell": "Table of Contents",
   "title_sidebar": "Contents",
   "toc_cell": false,
   "toc_position": {},
   "toc_section_display": true,
   "toc_window_display": false
  }
 },
 "nbformat": 4,
 "nbformat_minor": 5
}
